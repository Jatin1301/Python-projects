{
 "cells": [
  {
   "cell_type": "code",
   "execution_count": 545,
   "metadata": {},
   "outputs": [],
   "source": [
    "import pandas as pd\n",
    "import numpy as np\n",
    "import matplotlib.pyplot as plt\n",
    "import warnings\n",
    "warnings.filterwarnings('ignore')"
   ]
  },
  {
   "cell_type": "code",
   "execution_count": 546,
   "metadata": {},
   "outputs": [],
   "source": [
    "df=pd.read_csv(\"salary_data.csv\")"
   ]
  },
  {
   "cell_type": "code",
   "execution_count": 547,
   "metadata": {},
   "outputs": [
    {
     "data": {
      "text/html": [
       "<div>\n",
       "<style scoped>\n",
       "    .dataframe tbody tr th:only-of-type {\n",
       "        vertical-align: middle;\n",
       "    }\n",
       "\n",
       "    .dataframe tbody tr th {\n",
       "        vertical-align: top;\n",
       "    }\n",
       "\n",
       "    .dataframe thead th {\n",
       "        text-align: right;\n",
       "    }\n",
       "</style>\n",
       "<table border=\"1\" class=\"dataframe\">\n",
       "  <thead>\n",
       "    <tr style=\"text-align: right;\">\n",
       "      <th></th>\n",
       "      <th>NAME</th>\n",
       "      <th>JOB TITLE</th>\n",
       "      <th>DEPARTMENT</th>\n",
       "      <th>EMPLOYEE ANNUAL SALARY</th>\n",
       "      <th>ESTIMATED ANNUAL SALARY MINUS FURLOUGHS</th>\n",
       "    </tr>\n",
       "  </thead>\n",
       "  <tbody>\n",
       "    <tr>\n",
       "      <td>0</td>\n",
       "      <td>AARON,  ELVIA J</td>\n",
       "      <td>WATER RATE TAKER</td>\n",
       "      <td>WATER MGMNT</td>\n",
       "      <td>$81000.00</td>\n",
       "      <td>$73862.00</td>\n",
       "    </tr>\n",
       "    <tr>\n",
       "      <td>1</td>\n",
       "      <td>AARON,  JEFFERY M</td>\n",
       "      <td>POLICE OFFICER</td>\n",
       "      <td>POLICE</td>\n",
       "      <td>$74628.00</td>\n",
       "      <td>$74628.00</td>\n",
       "    </tr>\n",
       "    <tr>\n",
       "      <td>2</td>\n",
       "      <td>AARON,  KIMBERLEI R</td>\n",
       "      <td>CHIEF CONTRACT EXPEDITER</td>\n",
       "      <td>FLEET MANAGEMNT</td>\n",
       "      <td>$77280.00</td>\n",
       "      <td>$70174.00</td>\n",
       "    </tr>\n",
       "    <tr>\n",
       "      <td>3</td>\n",
       "      <td>ABAD JR,  VICENTE M</td>\n",
       "      <td>CIVIL ENGINEER IV</td>\n",
       "      <td>WATER MGMNT</td>\n",
       "      <td>$96276.00</td>\n",
       "      <td>$96276.00</td>\n",
       "    </tr>\n",
       "    <tr>\n",
       "      <td>4</td>\n",
       "      <td>ABBATACOLA,  ROBERT J</td>\n",
       "      <td>ELECTRICAL MECHANIC</td>\n",
       "      <td>WATER MGMNT</td>\n",
       "      <td>$84032.00</td>\n",
       "      <td>$76627.00</td>\n",
       "    </tr>\n",
       "    <tr>\n",
       "      <td>...</td>\n",
       "      <td>...</td>\n",
       "      <td>...</td>\n",
       "      <td>...</td>\n",
       "      <td>...</td>\n",
       "      <td>...</td>\n",
       "    </tr>\n",
       "    <tr>\n",
       "      <td>34213</td>\n",
       "      <td>ZYMANTAS,  MARK E</td>\n",
       "      <td>POLICE OFFICER</td>\n",
       "      <td>POLICE</td>\n",
       "      <td>$74628.00</td>\n",
       "      <td>$74628.00</td>\n",
       "    </tr>\n",
       "    <tr>\n",
       "      <td>34214</td>\n",
       "      <td>ZYNIEWICZ,  ROBERT J</td>\n",
       "      <td>CONSTRUCTION LABORER</td>\n",
       "      <td>WATER MGMNT</td>\n",
       "      <td>$73216.00</td>\n",
       "      <td>$66764.00</td>\n",
       "    </tr>\n",
       "    <tr>\n",
       "      <td>34215</td>\n",
       "      <td>ZYRKOWSKI,  CARLO E</td>\n",
       "      <td>POLICE OFFICER</td>\n",
       "      <td>POLICE</td>\n",
       "      <td>$77238.00</td>\n",
       "      <td>$77238.00</td>\n",
       "    </tr>\n",
       "    <tr>\n",
       "      <td>34216</td>\n",
       "      <td>ZYSKO,  RICHARD</td>\n",
       "      <td>LIEUTENANT</td>\n",
       "      <td>FIRE</td>\n",
       "      <td>$101958.00</td>\n",
       "      <td>$101958.00</td>\n",
       "    </tr>\n",
       "    <tr>\n",
       "      <td>34217</td>\n",
       "      <td>ZYSKOWSKI,  DARIUSZ</td>\n",
       "      <td>CHIEF DATA BASE ANALYST</td>\n",
       "      <td>DoIT</td>\n",
       "      <td>$110352.00</td>\n",
       "      <td>$100205.00</td>\n",
       "    </tr>\n",
       "  </tbody>\n",
       "</table>\n",
       "<p>34218 rows × 5 columns</p>\n",
       "</div>"
      ],
      "text/plain": [
       "                        NAME                 JOB TITLE       DEPARTMENT  \\\n",
       "0            AARON,  ELVIA J          WATER RATE TAKER      WATER MGMNT   \n",
       "1          AARON,  JEFFERY M            POLICE OFFICER           POLICE   \n",
       "2        AARON,  KIMBERLEI R  CHIEF CONTRACT EXPEDITER  FLEET MANAGEMNT   \n",
       "3        ABAD JR,  VICENTE M         CIVIL ENGINEER IV      WATER MGMNT   \n",
       "4      ABBATACOLA,  ROBERT J       ELECTRICAL MECHANIC      WATER MGMNT   \n",
       "...                      ...                       ...              ...   \n",
       "34213      ZYMANTAS,  MARK E            POLICE OFFICER           POLICE   \n",
       "34214   ZYNIEWICZ,  ROBERT J      CONSTRUCTION LABORER      WATER MGMNT   \n",
       "34215    ZYRKOWSKI,  CARLO E            POLICE OFFICER           POLICE   \n",
       "34216        ZYSKO,  RICHARD                LIEUTENANT             FIRE   \n",
       "34217    ZYSKOWSKI,  DARIUSZ   CHIEF DATA BASE ANALYST             DoIT   \n",
       "\n",
       "      EMPLOYEE ANNUAL SALARY ESTIMATED ANNUAL SALARY MINUS FURLOUGHS  \n",
       "0                  $81000.00                               $73862.00  \n",
       "1                  $74628.00                               $74628.00  \n",
       "2                  $77280.00                               $70174.00  \n",
       "3                  $96276.00                               $96276.00  \n",
       "4                  $84032.00                               $76627.00  \n",
       "...                      ...                                     ...  \n",
       "34213              $74628.00                               $74628.00  \n",
       "34214              $73216.00                               $66764.00  \n",
       "34215              $77238.00                               $77238.00  \n",
       "34216             $101958.00                              $101958.00  \n",
       "34217             $110352.00                              $100205.00  \n",
       "\n",
       "[34218 rows x 5 columns]"
      ]
     },
     "execution_count": 547,
     "metadata": {},
     "output_type": "execute_result"
    }
   ],
   "source": [
    "df"
   ]
  },
  {
   "cell_type": "code",
   "execution_count": 548,
   "metadata": {},
   "outputs": [
    {
     "data": {
      "text/plain": [
       "(34218, 5)"
      ]
     },
     "execution_count": 548,
     "metadata": {},
     "output_type": "execute_result"
    }
   ],
   "source": [
    "#shape of the data\n",
    "\n",
    "df.shape"
   ]
  },
  {
   "cell_type": "code",
   "execution_count": 549,
   "metadata": {},
   "outputs": [
    {
     "data": {
      "text/plain": [
       "NAME                                       object\n",
       "JOB TITLE                                  object\n",
       "DEPARTMENT                                 object\n",
       "EMPLOYEE ANNUAL SALARY                     object\n",
       "ESTIMATED ANNUAL SALARY MINUS FURLOUGHS    object\n",
       "dtype: object"
      ]
     },
     "execution_count": 549,
     "metadata": {},
     "output_type": "execute_result"
    }
   ],
   "source": [
    "# data types\n",
    "\n",
    "df.dtypes"
   ]
  },
  {
   "cell_type": "code",
   "execution_count": 550,
   "metadata": {},
   "outputs": [
    {
     "name": "stdout",
     "output_type": "stream",
     "text": [
      "<class 'pandas.core.frame.DataFrame'>\n",
      "RangeIndex: 34218 entries, 0 to 34217\n",
      "Data columns (total 5 columns):\n",
      "NAME                                       34218 non-null object\n",
      "JOB TITLE                                  34218 non-null object\n",
      "DEPARTMENT                                 34218 non-null object\n",
      "EMPLOYEE ANNUAL SALARY                     34218 non-null object\n",
      "ESTIMATED ANNUAL SALARY MINUS FURLOUGHS    34218 non-null object\n",
      "dtypes: object(5)\n",
      "memory usage: 1.3+ MB\n"
     ]
    }
   ],
   "source": [
    "df.info()"
   ]
  },
  {
   "cell_type": "raw",
   "metadata": {},
   "source": [
    "# Summary Statistics"
   ]
  },
  {
   "cell_type": "code",
   "execution_count": 551,
   "metadata": {},
   "outputs": [
    {
     "data": {
      "text/html": [
       "<div>\n",
       "<style scoped>\n",
       "    .dataframe tbody tr th:only-of-type {\n",
       "        vertical-align: middle;\n",
       "    }\n",
       "\n",
       "    .dataframe tbody tr th {\n",
       "        vertical-align: top;\n",
       "    }\n",
       "\n",
       "    .dataframe thead th {\n",
       "        text-align: right;\n",
       "    }\n",
       "</style>\n",
       "<table border=\"1\" class=\"dataframe\">\n",
       "  <thead>\n",
       "    <tr style=\"text-align: right;\">\n",
       "      <th></th>\n",
       "      <th>NAME</th>\n",
       "      <th>JOB TITLE</th>\n",
       "      <th>DEPARTMENT</th>\n",
       "      <th>EMPLOYEE ANNUAL SALARY</th>\n",
       "      <th>ESTIMATED ANNUAL SALARY MINUS FURLOUGHS</th>\n",
       "    </tr>\n",
       "  </thead>\n",
       "  <tbody>\n",
       "    <tr>\n",
       "      <td>count</td>\n",
       "      <td>34218</td>\n",
       "      <td>34218</td>\n",
       "      <td>34218</td>\n",
       "      <td>34218</td>\n",
       "      <td>34218</td>\n",
       "    </tr>\n",
       "    <tr>\n",
       "      <td>unique</td>\n",
       "      <td>33908</td>\n",
       "      <td>1124</td>\n",
       "      <td>39</td>\n",
       "      <td>1028</td>\n",
       "      <td>1088</td>\n",
       "    </tr>\n",
       "    <tr>\n",
       "      <td>top</td>\n",
       "      <td>PEREZ,  JOSE A</td>\n",
       "      <td>POLICE OFFICER</td>\n",
       "      <td>POLICE</td>\n",
       "      <td>$77238.00</td>\n",
       "      <td>$77238.00</td>\n",
       "    </tr>\n",
       "    <tr>\n",
       "      <td>freq</td>\n",
       "      <td>4</td>\n",
       "      <td>10918</td>\n",
       "      <td>14147</td>\n",
       "      <td>3028</td>\n",
       "      <td>3028</td>\n",
       "    </tr>\n",
       "  </tbody>\n",
       "</table>\n",
       "</div>"
      ],
      "text/plain": [
       "                  NAME       JOB TITLE DEPARTMENT EMPLOYEE ANNUAL SALARY  \\\n",
       "count            34218           34218      34218                  34218   \n",
       "unique           33908            1124         39                   1028   \n",
       "top     PEREZ,  JOSE A  POLICE OFFICER     POLICE              $77238.00   \n",
       "freq                 4           10918      14147                   3028   \n",
       "\n",
       "       ESTIMATED ANNUAL SALARY MINUS FURLOUGHS  \n",
       "count                                    34218  \n",
       "unique                                    1088  \n",
       "top                                  $77238.00  \n",
       "freq                                      3028  "
      ]
     },
     "execution_count": 551,
     "metadata": {},
     "output_type": "execute_result"
    }
   ],
   "source": [
    "df.describe()"
   ]
  },
  {
   "cell_type": "raw",
   "metadata": {},
   "source": [
    "# Data visualizations"
   ]
  },
  {
   "cell_type": "markdown",
   "metadata": {},
   "source": [
    "To check missing values"
   ]
  },
  {
   "cell_type": "code",
   "execution_count": 552,
   "metadata": {},
   "outputs": [
    {
     "data": {
      "text/plain": [
       "<matplotlib.axes._subplots.AxesSubplot at 0x35048fc8>"
      ]
     },
     "execution_count": 552,
     "metadata": {},
     "output_type": "execute_result"
    },
    {
     "data": {
      "image/png": "[encoded data removed]",
      "text/plain": [
       "<Figure size 432x288 with 2 Axes>"
      ]
     },
     "metadata": {
      "needs_background": "light"
     },
     "output_type": "display_data"
    }
   ],
   "source": [
    "import seaborn as sns\n",
    "sns.heatmap(df.isnull())"
   ]
  },
  {
   "cell_type": "code",
   "execution_count": 553,
   "metadata": {},
   "outputs": [
    {
     "data": {
      "text/plain": [
       "NAME                                       0\n",
       "JOB TITLE                                  0\n",
       "DEPARTMENT                                 0\n",
       "EMPLOYEE ANNUAL SALARY                     0\n",
       "ESTIMATED ANNUAL SALARY MINUS FURLOUGHS    0\n",
       "dtype: int64"
      ]
     },
     "execution_count": 553,
     "metadata": {},
     "output_type": "execute_result"
    }
   ],
   "source": [
    "df.isnull().sum()"
   ]
  },
  {
   "cell_type": "code",
   "execution_count": 554,
   "metadata": {},
   "outputs": [],
   "source": [
    "df=df.rename(columns={\"EMPLOYEE ANNUAL SALARY\":\"ANNUAL_SALARY\",\"ESTIMATED ANNUAL SALARY MINUS FURLOUGHS\":\"NET_SALARY\"})"
   ]
  },
  {
   "cell_type": "code",
   "execution_count": 555,
   "metadata": {},
   "outputs": [
    {
     "data": {
      "text/html": [
       "<div>\n",
       "<style scoped>\n",
       "    .dataframe tbody tr th:only-of-type {\n",
       "        vertical-align: middle;\n",
       "    }\n",
       "\n",
       "    .dataframe tbody tr th {\n",
       "        vertical-align: top;\n",
       "    }\n",
       "\n",
       "    .dataframe thead th {\n",
       "        text-align: right;\n",
       "    }\n",
       "</style>\n",
       "<table border=\"1\" class=\"dataframe\">\n",
       "  <thead>\n",
       "    <tr style=\"text-align: right;\">\n",
       "      <th></th>\n",
       "      <th>NAME</th>\n",
       "      <th>JOB TITLE</th>\n",
       "      <th>DEPARTMENT</th>\n",
       "      <th>ANNUAL_SALARY</th>\n",
       "      <th>NET_SALARY</th>\n",
       "    </tr>\n",
       "  </thead>\n",
       "  <tbody>\n",
       "    <tr>\n",
       "      <td>0</td>\n",
       "      <td>AARON,  ELVIA J</td>\n",
       "      <td>WATER RATE TAKER</td>\n",
       "      <td>WATER MGMNT</td>\n",
       "      <td>$81000.00</td>\n",
       "      <td>$73862.00</td>\n",
       "    </tr>\n",
       "    <tr>\n",
       "      <td>1</td>\n",
       "      <td>AARON,  JEFFERY M</td>\n",
       "      <td>POLICE OFFICER</td>\n",
       "      <td>POLICE</td>\n",
       "      <td>$74628.00</td>\n",
       "      <td>$74628.00</td>\n",
       "    </tr>\n",
       "    <tr>\n",
       "      <td>2</td>\n",
       "      <td>AARON,  KIMBERLEI R</td>\n",
       "      <td>CHIEF CONTRACT EXPEDITER</td>\n",
       "      <td>FLEET MANAGEMNT</td>\n",
       "      <td>$77280.00</td>\n",
       "      <td>$70174.00</td>\n",
       "    </tr>\n",
       "    <tr>\n",
       "      <td>3</td>\n",
       "      <td>ABAD JR,  VICENTE M</td>\n",
       "      <td>CIVIL ENGINEER IV</td>\n",
       "      <td>WATER MGMNT</td>\n",
       "      <td>$96276.00</td>\n",
       "      <td>$96276.00</td>\n",
       "    </tr>\n",
       "    <tr>\n",
       "      <td>4</td>\n",
       "      <td>ABBATACOLA,  ROBERT J</td>\n",
       "      <td>ELECTRICAL MECHANIC</td>\n",
       "      <td>WATER MGMNT</td>\n",
       "      <td>$84032.00</td>\n",
       "      <td>$76627.00</td>\n",
       "    </tr>\n",
       "    <tr>\n",
       "      <td>...</td>\n",
       "      <td>...</td>\n",
       "      <td>...</td>\n",
       "      <td>...</td>\n",
       "      <td>...</td>\n",
       "      <td>...</td>\n",
       "    </tr>\n",
       "    <tr>\n",
       "      <td>34213</td>\n",
       "      <td>ZYMANTAS,  MARK E</td>\n",
       "      <td>POLICE OFFICER</td>\n",
       "      <td>POLICE</td>\n",
       "      <td>$74628.00</td>\n",
       "      <td>$74628.00</td>\n",
       "    </tr>\n",
       "    <tr>\n",
       "      <td>34214</td>\n",
       "      <td>ZYNIEWICZ,  ROBERT J</td>\n",
       "      <td>CONSTRUCTION LABORER</td>\n",
       "      <td>WATER MGMNT</td>\n",
       "      <td>$73216.00</td>\n",
       "      <td>$66764.00</td>\n",
       "    </tr>\n",
       "    <tr>\n",
       "      <td>34215</td>\n",
       "      <td>ZYRKOWSKI,  CARLO E</td>\n",
       "      <td>POLICE OFFICER</td>\n",
       "      <td>POLICE</td>\n",
       "      <td>$77238.00</td>\n",
       "      <td>$77238.00</td>\n",
       "    </tr>\n",
       "    <tr>\n",
       "      <td>34216</td>\n",
       "      <td>ZYSKO,  RICHARD</td>\n",
       "      <td>LIEUTENANT</td>\n",
       "      <td>FIRE</td>\n",
       "      <td>$101958.00</td>\n",
       "      <td>$101958.00</td>\n",
       "    </tr>\n",
       "    <tr>\n",
       "      <td>34217</td>\n",
       "      <td>ZYSKOWSKI,  DARIUSZ</td>\n",
       "      <td>CHIEF DATA BASE ANALYST</td>\n",
       "      <td>DoIT</td>\n",
       "      <td>$110352.00</td>\n",
       "      <td>$100205.00</td>\n",
       "    </tr>\n",
       "  </tbody>\n",
       "</table>\n",
       "<p>34218 rows × 5 columns</p>\n",
       "</div>"
      ],
      "text/plain": [
       "                        NAME                 JOB TITLE       DEPARTMENT  \\\n",
       "0            AARON,  ELVIA J          WATER RATE TAKER      WATER MGMNT   \n",
       "1          AARON,  JEFFERY M            POLICE OFFICER           POLICE   \n",
       "2        AARON,  KIMBERLEI R  CHIEF CONTRACT EXPEDITER  FLEET MANAGEMNT   \n",
       "3        ABAD JR,  VICENTE M         CIVIL ENGINEER IV      WATER MGMNT   \n",
       "4      ABBATACOLA,  ROBERT J       ELECTRICAL MECHANIC      WATER MGMNT   \n",
       "...                      ...                       ...              ...   \n",
       "34213      ZYMANTAS,  MARK E            POLICE OFFICER           POLICE   \n",
       "34214   ZYNIEWICZ,  ROBERT J      CONSTRUCTION LABORER      WATER MGMNT   \n",
       "34215    ZYRKOWSKI,  CARLO E            POLICE OFFICER           POLICE   \n",
       "34216        ZYSKO,  RICHARD                LIEUTENANT             FIRE   \n",
       "34217    ZYSKOWSKI,  DARIUSZ   CHIEF DATA BASE ANALYST             DoIT   \n",
       "\n",
       "      ANNUAL_SALARY  NET_SALARY  \n",
       "0         $81000.00   $73862.00  \n",
       "1         $74628.00   $74628.00  \n",
       "2         $77280.00   $70174.00  \n",
       "3         $96276.00   $96276.00  \n",
       "4         $84032.00   $76627.00  \n",
       "...             ...         ...  \n",
       "34213     $74628.00   $74628.00  \n",
       "34214     $73216.00   $66764.00  \n",
       "34215     $77238.00   $77238.00  \n",
       "34216    $101958.00  $101958.00  \n",
       "34217    $110352.00  $100205.00  \n",
       "\n",
       "[34218 rows x 5 columns]"
      ]
     },
     "execution_count": 555,
     "metadata": {},
     "output_type": "execute_result"
    }
   ],
   "source": [
    "df"
   ]
  },
  {
   "cell_type": "code",
   "execution_count": 556,
   "metadata": {},
   "outputs": [],
   "source": [
    "v=lambda x:float(x[1:-1])"
   ]
  },
  {
   "cell_type": "code",
   "execution_count": 557,
   "metadata": {},
   "outputs": [],
   "source": [
    "df.ANNUAL_SALARY=df.ANNUAL_SALARY.apply(v)"
   ]
  },
  {
   "cell_type": "code",
   "execution_count": 558,
   "metadata": {},
   "outputs": [],
   "source": [
    "df.NET_SALARY=df.NET_SALARY.apply(v)"
   ]
  },
  {
   "cell_type": "code",
   "execution_count": 559,
   "metadata": {},
   "outputs": [
    {
     "data": {
      "text/plain": [
       "NAME              object\n",
       "JOB TITLE         object\n",
       "DEPARTMENT        object\n",
       "ANNUAL_SALARY    float64\n",
       "NET_SALARY       float64\n",
       "dtype: object"
      ]
     },
     "execution_count": 559,
     "metadata": {},
     "output_type": "execute_result"
    }
   ],
   "source": [
    "df.dtypes"
   ]
  },
  {
   "cell_type": "code",
   "execution_count": 560,
   "metadata": {},
   "outputs": [
    {
     "data": {
      "text/plain": [
       "1.0"
      ]
     },
     "execution_count": 560,
     "metadata": {},
     "output_type": "execute_result"
    }
   ],
   "source": [
    "df[\"NET_SALARY\"].min()"
   ]
  },
  {
   "cell_type": "code",
   "execution_count": 561,
   "metadata": {},
   "outputs": [
    {
     "data": {
      "text/plain": [
       "236096.0"
      ]
     },
     "execution_count": 561,
     "metadata": {},
     "output_type": "execute_result"
    }
   ],
   "source": [
    "df[\"NET_SALARY\"].max()"
   ]
  },
  {
   "cell_type": "code",
   "execution_count": 562,
   "metadata": {},
   "outputs": [
    {
     "data": {
      "text/plain": [
       "<matplotlib.axes._subplots.AxesSubplot at 0x40e78288>"
      ]
     },
     "execution_count": 562,
     "metadata": {},
     "output_type": "execute_result"
    },
    {
     "data": {
      "image/png": "[encoded data removed]",
      "text/plain": [
       "<Figure size 432x288 with 1 Axes>"
      ]
     },
     "metadata": {
      "needs_background": "light"
     },
     "output_type": "display_data"
    }
   ],
   "source": [
    "df[\"NET_SALARY\"].plot()"
   ]
  },
  {
   "cell_type": "code",
   "execution_count": 563,
   "metadata": {},
   "outputs": [
    {
     "name": "stdout",
     "output_type": "stream",
     "text": [
      "(array([2.1500e+03, 1.9020e+03, 8.2400e+03, 1.8487e+04, 2.8690e+03,\n",
      "       4.8600e+02, 7.8000e+01, 4.0000e+00, 1.0000e+00, 1.0000e+00]), array([1.000000e+00, 2.361050e+04, 4.722000e+04, 7.082950e+04,\n",
      "       9.443900e+04, 1.180485e+05, 1.416580e+05, 1.652675e+05,\n",
      "       1.888770e+05, 2.124865e+05, 2.360960e+05]), <a list of 10 Patch objects>)\n"
     ]
    },
    {
     "data": {
      "image/png": "[encoded data removed]",
      "text/plain": [
       "<Figure size 432x288 with 1 Axes>"
      ]
     },
     "metadata": {
      "needs_background": "light"
     },
     "output_type": "display_data"
    }
   ],
   "source": [
    "print(plt.hist(df[\"NET_SALARY\"],bins=10))\n",
    "\n",
    "# i.e. maximum no. of people are having the salary in the range between $75000 and $90000 "
   ]
  },
  {
   "cell_type": "code",
   "execution_count": 564,
   "metadata": {},
   "outputs": [
    {
     "name": "stdout",
     "output_type": "stream",
     "text": [
      "(array([2.2660e+03, 2.3240e+03, 1.4822e+04, 1.3097e+04, 1.3910e+03,\n",
      "       2.3400e+02, 7.8000e+01, 4.0000e+00, 1.0000e+00, 1.0000e+00]), array([1.000000e+00, 2.600130e+04, 5.200160e+04, 7.800190e+04,\n",
      "       1.040022e+05, 1.300025e+05, 1.560028e+05, 1.820031e+05,\n",
      "       2.080034e+05, 2.340037e+05, 2.600040e+05]), <a list of 10 Patch objects>)\n"
     ]
    },
    {
     "data": {
      "image/png": "[encoded data removed]",
      "text/plain": [
       "<Figure size 432x288 with 1 Axes>"
      ]
     },
     "metadata": {
      "needs_background": "light"
     },
     "output_type": "display_data"
    }
   ],
   "source": [
    "print(plt.hist(df[\"ANNUAL_SALARY\"],bins=10))"
   ]
  },
  {
   "cell_type": "code",
   "execution_count": 565,
   "metadata": {},
   "outputs": [],
   "source": [
    "dfcor=df.corr()"
   ]
  },
  {
   "cell_type": "code",
   "execution_count": 566,
   "metadata": {},
   "outputs": [
    {
     "data": {
      "text/html": [
       "<div>\n",
       "<style scoped>\n",
       "    .dataframe tbody tr th:only-of-type {\n",
       "        vertical-align: middle;\n",
       "    }\n",
       "\n",
       "    .dataframe tbody tr th {\n",
       "        vertical-align: top;\n",
       "    }\n",
       "\n",
       "    .dataframe thead th {\n",
       "        text-align: right;\n",
       "    }\n",
       "</style>\n",
       "<table border=\"1\" class=\"dataframe\">\n",
       "  <thead>\n",
       "    <tr style=\"text-align: right;\">\n",
       "      <th></th>\n",
       "      <th>ANNUAL_SALARY</th>\n",
       "      <th>NET_SALARY</th>\n",
       "    </tr>\n",
       "  </thead>\n",
       "  <tbody>\n",
       "    <tr>\n",
       "      <td>ANNUAL_SALARY</td>\n",
       "      <td>1.000000</td>\n",
       "      <td>0.990208</td>\n",
       "    </tr>\n",
       "    <tr>\n",
       "      <td>NET_SALARY</td>\n",
       "      <td>0.990208</td>\n",
       "      <td>1.000000</td>\n",
       "    </tr>\n",
       "  </tbody>\n",
       "</table>\n",
       "</div>"
      ],
      "text/plain": [
       "               ANNUAL_SALARY  NET_SALARY\n",
       "ANNUAL_SALARY       1.000000    0.990208\n",
       "NET_SALARY          0.990208    1.000000"
      ]
     },
     "execution_count": 566,
     "metadata": {},
     "output_type": "execute_result"
    }
   ],
   "source": [
    "dfcor"
   ]
  },
  {
   "cell_type": "code",
   "execution_count": 567,
   "metadata": {},
   "outputs": [
    {
     "data": {
      "text/plain": [
       "<matplotlib.axes._subplots.AxesSubplot at 0x40ee1108>"
      ]
     },
     "execution_count": 567,
     "metadata": {},
     "output_type": "execute_result"
    },
    {
     "data": {
      "image/png": "[encoded data removed]",
      "text/plain": [
       "<Figure size 432x288 with 2 Axes>"
      ]
     },
     "metadata": {
      "needs_background": "light"
     },
     "output_type": "display_data"
    }
   ],
   "source": [
    "sns.heatmap(dfcor)"
   ]
  },
  {
   "cell_type": "code",
   "execution_count": 568,
   "metadata": {},
   "outputs": [
    {
     "data": {
      "text/plain": [
       "<matplotlib.axes._subplots.AxesSubplot at 0x413b52c8>"
      ]
     },
     "execution_count": 568,
     "metadata": {},
     "output_type": "execute_result"
    },
    {
     "data": {
      "image/png": "[encoded data removed]",
      "text/plain": [
       "<Figure size 432x288 with 1 Axes>"
      ]
     },
     "metadata": {
      "needs_background": "light"
     },
     "output_type": "display_data"
    }
   ],
   "source": [
    "sns.barplot(x=\"JOB TITLE\",y=\"NET_SALARY\",data=df)"
   ]
  },
  {
   "cell_type": "code",
   "execution_count": 569,
   "metadata": {},
   "outputs": [
    {
     "data": {
      "text/plain": [
       "<matplotlib.axes._subplots.AxesSubplot at 0x4293e908>"
      ]
     },
     "execution_count": 569,
     "metadata": {},
     "output_type": "execute_result"
    },
    {
     "data": {
      "image/png": "[encoded data removed]",
      "text/plain": [
       "<Figure size 432x288 with 1 Axes>"
      ]
     },
     "metadata": {
      "needs_background": "light"
     },
     "output_type": "display_data"
    }
   ],
   "source": [
    "sns.barplot(x=\"DEPARTMENT\",y=\"NET_SALARY\",data=df)    "
   ]
  },
  {
   "cell_type": "code",
   "execution_count": null,
   "metadata": {},
   "outputs": [],
   "source": []
  },
  {
   "cell_type": "code",
   "execution_count": 570,
   "metadata": {},
   "outputs": [
    {
     "data": {
      "text/plain": [
       "<matplotlib.axes._subplots.AxesSubplot at 0x464ecf48>"
      ]
     },
     "execution_count": 570,
     "metadata": {},
     "output_type": "execute_result"
    },
    {
     "data": {
      "image/png": "[encoded data removed]",
      "text/plain": [
       "<Figure size 432x288 with 1 Axes>"
      ]
     },
     "metadata": {
      "needs_background": "light"
     },
     "output_type": "display_data"
    }
   ],
   "source": [
    "sns.boxplot(df[\"NET_SALARY\"],color='green',orient='v')"
   ]
  },
  {
   "cell_type": "code",
   "execution_count": 571,
   "metadata": {},
   "outputs": [
    {
     "data": {
      "text/plain": [
       "<matplotlib.axes._subplots.AxesSubplot at 0x46440948>"
      ]
     },
     "execution_count": 571,
     "metadata": {},
     "output_type": "execute_result"
    },
    {
     "data": {
      "image/png": "[encoded data removed]",
      "text/plain": [
       "<Figure size 432x288 with 1 Axes>"
      ]
     },
     "metadata": {
      "needs_background": "light"
     },
     "output_type": "display_data"
    }
   ],
   "source": [
    "sns.boxplot(df[\"ANNUAL_SALARY\"],color='green',orient='v')"
   ]
  },
  {
   "cell_type": "code",
   "execution_count": 572,
   "metadata": {},
   "outputs": [
    {
     "data": {
      "text/plain": [
       "<matplotlib.axes._subplots.AxesSubplot at 0x465287c8>"
      ]
     },
     "execution_count": 572,
     "metadata": {},
     "output_type": "execute_result"
    },
    {
     "data": {
      "image/png": "[encoded data removed]",
      "text/plain": [
       "<Figure size 432x288 with 1 Axes>"
      ]
     },
     "metadata": {
      "needs_background": "light"
     },
     "output_type": "display_data"
    }
   ],
   "source": [
    "sns.distplot(df[\"ANNUAL_SALARY\"])"
   ]
  },
  {
   "cell_type": "code",
   "execution_count": 573,
   "metadata": {},
   "outputs": [
    {
     "data": {
      "text/plain": [
       "<matplotlib.axes._subplots.AxesSubplot at 0x4664c4c8>"
      ]
     },
     "execution_count": 573,
     "metadata": {},
     "output_type": "execute_result"
    },
    {
     "data": {
      "image/png": "[encoded data removed]",
      "text/plain": [
       "<Figure size 432x288 with 1 Axes>"
      ]
     },
     "metadata": {
      "needs_background": "light"
     },
     "output_type": "display_data"
    }
   ],
   "source": [
    "sns.distplot(df[\"NET_SALARY\"])"
   ]
  },
  {
   "cell_type": "code",
   "execution_count": 574,
   "metadata": {},
   "outputs": [],
   "source": [
    "df.drop('NAME',axis=1,inplace=True)\n"
   ]
  },
  {
   "cell_type": "code",
   "execution_count": 575,
   "metadata": {},
   "outputs": [
    {
     "data": {
      "text/html": [
       "<div>\n",
       "<style scoped>\n",
       "    .dataframe tbody tr th:only-of-type {\n",
       "        vertical-align: middle;\n",
       "    }\n",
       "\n",
       "    .dataframe tbody tr th {\n",
       "        vertical-align: top;\n",
       "    }\n",
       "\n",
       "    .dataframe thead th {\n",
       "        text-align: right;\n",
       "    }\n",
       "</style>\n",
       "<table border=\"1\" class=\"dataframe\">\n",
       "  <thead>\n",
       "    <tr style=\"text-align: right;\">\n",
       "      <th></th>\n",
       "      <th>JOB TITLE</th>\n",
       "      <th>DEPARTMENT</th>\n",
       "      <th>ANNUAL_SALARY</th>\n",
       "      <th>NET_SALARY</th>\n",
       "    </tr>\n",
       "  </thead>\n",
       "  <tbody>\n",
       "    <tr>\n",
       "      <td>0</td>\n",
       "      <td>WATER RATE TAKER</td>\n",
       "      <td>WATER MGMNT</td>\n",
       "      <td>81000.0</td>\n",
       "      <td>73862.0</td>\n",
       "    </tr>\n",
       "    <tr>\n",
       "      <td>1</td>\n",
       "      <td>POLICE OFFICER</td>\n",
       "      <td>POLICE</td>\n",
       "      <td>74628.0</td>\n",
       "      <td>74628.0</td>\n",
       "    </tr>\n",
       "    <tr>\n",
       "      <td>2</td>\n",
       "      <td>CHIEF CONTRACT EXPEDITER</td>\n",
       "      <td>FLEET MANAGEMNT</td>\n",
       "      <td>77280.0</td>\n",
       "      <td>70174.0</td>\n",
       "    </tr>\n",
       "    <tr>\n",
       "      <td>3</td>\n",
       "      <td>CIVIL ENGINEER IV</td>\n",
       "      <td>WATER MGMNT</td>\n",
       "      <td>96276.0</td>\n",
       "      <td>96276.0</td>\n",
       "    </tr>\n",
       "    <tr>\n",
       "      <td>4</td>\n",
       "      <td>ELECTRICAL MECHANIC</td>\n",
       "      <td>WATER MGMNT</td>\n",
       "      <td>84032.0</td>\n",
       "      <td>76627.0</td>\n",
       "    </tr>\n",
       "    <tr>\n",
       "      <td>...</td>\n",
       "      <td>...</td>\n",
       "      <td>...</td>\n",
       "      <td>...</td>\n",
       "      <td>...</td>\n",
       "    </tr>\n",
       "    <tr>\n",
       "      <td>34213</td>\n",
       "      <td>POLICE OFFICER</td>\n",
       "      <td>POLICE</td>\n",
       "      <td>74628.0</td>\n",
       "      <td>74628.0</td>\n",
       "    </tr>\n",
       "    <tr>\n",
       "      <td>34214</td>\n",
       "      <td>CONSTRUCTION LABORER</td>\n",
       "      <td>WATER MGMNT</td>\n",
       "      <td>73216.0</td>\n",
       "      <td>66764.0</td>\n",
       "    </tr>\n",
       "    <tr>\n",
       "      <td>34215</td>\n",
       "      <td>POLICE OFFICER</td>\n",
       "      <td>POLICE</td>\n",
       "      <td>77238.0</td>\n",
       "      <td>77238.0</td>\n",
       "    </tr>\n",
       "    <tr>\n",
       "      <td>34216</td>\n",
       "      <td>LIEUTENANT</td>\n",
       "      <td>FIRE</td>\n",
       "      <td>101958.0</td>\n",
       "      <td>101958.0</td>\n",
       "    </tr>\n",
       "    <tr>\n",
       "      <td>34217</td>\n",
       "      <td>CHIEF DATA BASE ANALYST</td>\n",
       "      <td>DoIT</td>\n",
       "      <td>110352.0</td>\n",
       "      <td>100205.0</td>\n",
       "    </tr>\n",
       "  </tbody>\n",
       "</table>\n",
       "<p>34218 rows × 4 columns</p>\n",
       "</div>"
      ],
      "text/plain": [
       "                      JOB TITLE       DEPARTMENT  ANNUAL_SALARY  NET_SALARY\n",
       "0              WATER RATE TAKER      WATER MGMNT        81000.0     73862.0\n",
       "1                POLICE OFFICER           POLICE        74628.0     74628.0\n",
       "2      CHIEF CONTRACT EXPEDITER  FLEET MANAGEMNT        77280.0     70174.0\n",
       "3             CIVIL ENGINEER IV      WATER MGMNT        96276.0     96276.0\n",
       "4           ELECTRICAL MECHANIC      WATER MGMNT        84032.0     76627.0\n",
       "...                         ...              ...            ...         ...\n",
       "34213            POLICE OFFICER           POLICE        74628.0     74628.0\n",
       "34214      CONSTRUCTION LABORER      WATER MGMNT        73216.0     66764.0\n",
       "34215            POLICE OFFICER           POLICE        77238.0     77238.0\n",
       "34216                LIEUTENANT             FIRE       101958.0    101958.0\n",
       "34217   CHIEF DATA BASE ANALYST             DoIT       110352.0    100205.0\n",
       "\n",
       "[34218 rows x 4 columns]"
      ]
     },
     "execution_count": 575,
     "metadata": {},
     "output_type": "execute_result"
    }
   ],
   "source": [
    "df"
   ]
  },
  {
   "cell_type": "code",
   "execution_count": 576,
   "metadata": {},
   "outputs": [],
   "source": [
    "from sklearn.preprocessing import LabelEncoder\n",
    "le=LabelEncoder()"
   ]
  },
  {
   "cell_type": "code",
   "execution_count": 577,
   "metadata": {},
   "outputs": [],
   "source": [
    "columns=[\"JOB TITLE\",\"DEPARTMENT\"]\n",
    "\n",
    "for i in columns:\n",
    "    df[i]=le.fit_transform(df[i].astype(str))"
   ]
  },
  {
   "cell_type": "code",
   "execution_count": 578,
   "metadata": {},
   "outputs": [
    {
     "data": {
      "text/html": [
       "<div>\n",
       "<style scoped>\n",
       "    .dataframe tbody tr th:only-of-type {\n",
       "        vertical-align: middle;\n",
       "    }\n",
       "\n",
       "    .dataframe tbody tr th {\n",
       "        vertical-align: top;\n",
       "    }\n",
       "\n",
       "    .dataframe thead th {\n",
       "        text-align: right;\n",
       "    }\n",
       "</style>\n",
       "<table border=\"1\" class=\"dataframe\">\n",
       "  <thead>\n",
       "    <tr style=\"text-align: right;\">\n",
       "      <th></th>\n",
       "      <th>JOB TITLE</th>\n",
       "      <th>DEPARTMENT</th>\n",
       "      <th>ANNUAL_SALARY</th>\n",
       "      <th>NET_SALARY</th>\n",
       "    </tr>\n",
       "  </thead>\n",
       "  <tbody>\n",
       "    <tr>\n",
       "      <td>0</td>\n",
       "      <td>1115</td>\n",
       "      <td>38</td>\n",
       "      <td>81000.0</td>\n",
       "      <td>73862.0</td>\n",
       "    </tr>\n",
       "    <tr>\n",
       "      <td>1</td>\n",
       "      <td>783</td>\n",
       "      <td>30</td>\n",
       "      <td>74628.0</td>\n",
       "      <td>74628.0</td>\n",
       "    </tr>\n",
       "    <tr>\n",
       "      <td>2</td>\n",
       "      <td>193</td>\n",
       "      <td>19</td>\n",
       "      <td>77280.0</td>\n",
       "      <td>70174.0</td>\n",
       "    </tr>\n",
       "    <tr>\n",
       "      <td>3</td>\n",
       "      <td>240</td>\n",
       "      <td>38</td>\n",
       "      <td>96276.0</td>\n",
       "      <td>96276.0</td>\n",
       "    </tr>\n",
       "    <tr>\n",
       "      <td>4</td>\n",
       "      <td>451</td>\n",
       "      <td>38</td>\n",
       "      <td>84032.0</td>\n",
       "      <td>76627.0</td>\n",
       "    </tr>\n",
       "    <tr>\n",
       "      <td>...</td>\n",
       "      <td>...</td>\n",
       "      <td>...</td>\n",
       "      <td>...</td>\n",
       "      <td>...</td>\n",
       "    </tr>\n",
       "    <tr>\n",
       "      <td>34213</td>\n",
       "      <td>783</td>\n",
       "      <td>30</td>\n",
       "      <td>74628.0</td>\n",
       "      <td>74628.0</td>\n",
       "    </tr>\n",
       "    <tr>\n",
       "      <td>34214</td>\n",
       "      <td>284</td>\n",
       "      <td>38</td>\n",
       "      <td>73216.0</td>\n",
       "      <td>66764.0</td>\n",
       "    </tr>\n",
       "    <tr>\n",
       "      <td>34215</td>\n",
       "      <td>783</td>\n",
       "      <td>30</td>\n",
       "      <td>77238.0</td>\n",
       "      <td>77238.0</td>\n",
       "    </tr>\n",
       "    <tr>\n",
       "      <td>34216</td>\n",
       "      <td>673</td>\n",
       "      <td>18</td>\n",
       "      <td>101958.0</td>\n",
       "      <td>101958.0</td>\n",
       "    </tr>\n",
       "    <tr>\n",
       "      <td>34217</td>\n",
       "      <td>194</td>\n",
       "      <td>14</td>\n",
       "      <td>110352.0</td>\n",
       "      <td>100205.0</td>\n",
       "    </tr>\n",
       "  </tbody>\n",
       "</table>\n",
       "<p>34218 rows × 4 columns</p>\n",
       "</div>"
      ],
      "text/plain": [
       "       JOB TITLE  DEPARTMENT  ANNUAL_SALARY  NET_SALARY\n",
       "0           1115          38        81000.0     73862.0\n",
       "1            783          30        74628.0     74628.0\n",
       "2            193          19        77280.0     70174.0\n",
       "3            240          38        96276.0     96276.0\n",
       "4            451          38        84032.0     76627.0\n",
       "...          ...         ...            ...         ...\n",
       "34213        783          30        74628.0     74628.0\n",
       "34214        284          38        73216.0     66764.0\n",
       "34215        783          30        77238.0     77238.0\n",
       "34216        673          18       101958.0    101958.0\n",
       "34217        194          14       110352.0    100205.0\n",
       "\n",
       "[34218 rows x 4 columns]"
      ]
     },
     "execution_count": 578,
     "metadata": {},
     "output_type": "execute_result"
    }
   ],
   "source": [
    "df"
   ]
  },
  {
   "cell_type": "code",
   "execution_count": 579,
   "metadata": {},
   "outputs": [],
   "source": [
    "from sklearn.preprocessing import MinMaxScaler"
   ]
  },
  {
   "cell_type": "code",
   "execution_count": 580,
   "metadata": {},
   "outputs": [],
   "source": [
    "minmaxscaler=MinMaxScaler(feature_range=(0,1))"
   ]
  },
  {
   "cell_type": "code",
   "execution_count": 581,
   "metadata": {},
   "outputs": [
    {
     "data": {
      "text/plain": [
       "array([ 81000.,  74628.,  77280., ...,  77238., 101958., 110352.])"
      ]
     },
     "execution_count": 581,
     "metadata": {},
     "output_type": "execute_result"
    }
   ],
   "source": [
    "s1=df.iloc[:,2].values\n",
    "s1"
   ]
  },
  {
   "cell_type": "code",
   "execution_count": 582,
   "metadata": {},
   "outputs": [
    {
     "data": {
      "text/plain": [
       "array([[ 81000.],\n",
       "       [ 74628.],\n",
       "       [ 77280.],\n",
       "       ...,\n",
       "       [ 77238.],\n",
       "       [101958.],\n",
       "       [110352.]])"
      ]
     },
     "execution_count": 582,
     "metadata": {},
     "output_type": "execute_result"
    }
   ],
   "source": [
    "s1=s1.reshape(-1,1)\n",
    "s1"
   ]
  },
  {
   "cell_type": "code",
   "execution_count": 583,
   "metadata": {},
   "outputs": [],
   "source": [
    "#Applying minmaxscaler to scale the data\n",
    "\n",
    "df[\"ANNUAL_SALARY\"]=minmaxscaler.fit_transform(s1)"
   ]
  },
  {
   "cell_type": "code",
   "execution_count": 584,
   "metadata": {},
   "outputs": [
    {
     "data": {
      "text/plain": [
       "0        0.311531\n",
       "1        0.287024\n",
       "2        0.297223\n",
       "3        0.370284\n",
       "4        0.323192\n",
       "           ...   \n",
       "34213    0.287024\n",
       "34214    0.281593\n",
       "34215    0.297062\n",
       "34216    0.392138\n",
       "34217    0.424422\n",
       "Name: ANNUAL_SALARY, Length: 34218, dtype: float64"
      ]
     },
     "execution_count": 584,
     "metadata": {},
     "output_type": "execute_result"
    }
   ],
   "source": [
    "df[\"ANNUAL_SALARY\"]"
   ]
  },
  {
   "cell_type": "code",
   "execution_count": 585,
   "metadata": {},
   "outputs": [
    {
     "data": {
      "text/html": [
       "<div>\n",
       "<style scoped>\n",
       "    .dataframe tbody tr th:only-of-type {\n",
       "        vertical-align: middle;\n",
       "    }\n",
       "\n",
       "    .dataframe tbody tr th {\n",
       "        vertical-align: top;\n",
       "    }\n",
       "\n",
       "    .dataframe thead th {\n",
       "        text-align: right;\n",
       "    }\n",
       "</style>\n",
       "<table border=\"1\" class=\"dataframe\">\n",
       "  <thead>\n",
       "    <tr style=\"text-align: right;\">\n",
       "      <th></th>\n",
       "      <th>JOB TITLE</th>\n",
       "      <th>DEPARTMENT</th>\n",
       "      <th>ANNUAL_SALARY</th>\n",
       "      <th>NET_SALARY</th>\n",
       "    </tr>\n",
       "  </thead>\n",
       "  <tbody>\n",
       "    <tr>\n",
       "      <td>0</td>\n",
       "      <td>1115</td>\n",
       "      <td>38</td>\n",
       "      <td>0.311531</td>\n",
       "      <td>73862.0</td>\n",
       "    </tr>\n",
       "    <tr>\n",
       "      <td>1</td>\n",
       "      <td>783</td>\n",
       "      <td>30</td>\n",
       "      <td>0.287024</td>\n",
       "      <td>74628.0</td>\n",
       "    </tr>\n",
       "    <tr>\n",
       "      <td>2</td>\n",
       "      <td>193</td>\n",
       "      <td>19</td>\n",
       "      <td>0.297223</td>\n",
       "      <td>70174.0</td>\n",
       "    </tr>\n",
       "    <tr>\n",
       "      <td>3</td>\n",
       "      <td>240</td>\n",
       "      <td>38</td>\n",
       "      <td>0.370284</td>\n",
       "      <td>96276.0</td>\n",
       "    </tr>\n",
       "    <tr>\n",
       "      <td>4</td>\n",
       "      <td>451</td>\n",
       "      <td>38</td>\n",
       "      <td>0.323192</td>\n",
       "      <td>76627.0</td>\n",
       "    </tr>\n",
       "    <tr>\n",
       "      <td>...</td>\n",
       "      <td>...</td>\n",
       "      <td>...</td>\n",
       "      <td>...</td>\n",
       "      <td>...</td>\n",
       "    </tr>\n",
       "    <tr>\n",
       "      <td>34213</td>\n",
       "      <td>783</td>\n",
       "      <td>30</td>\n",
       "      <td>0.287024</td>\n",
       "      <td>74628.0</td>\n",
       "    </tr>\n",
       "    <tr>\n",
       "      <td>34214</td>\n",
       "      <td>284</td>\n",
       "      <td>38</td>\n",
       "      <td>0.281593</td>\n",
       "      <td>66764.0</td>\n",
       "    </tr>\n",
       "    <tr>\n",
       "      <td>34215</td>\n",
       "      <td>783</td>\n",
       "      <td>30</td>\n",
       "      <td>0.297062</td>\n",
       "      <td>77238.0</td>\n",
       "    </tr>\n",
       "    <tr>\n",
       "      <td>34216</td>\n",
       "      <td>673</td>\n",
       "      <td>18</td>\n",
       "      <td>0.392138</td>\n",
       "      <td>101958.0</td>\n",
       "    </tr>\n",
       "    <tr>\n",
       "      <td>34217</td>\n",
       "      <td>194</td>\n",
       "      <td>14</td>\n",
       "      <td>0.424422</td>\n",
       "      <td>100205.0</td>\n",
       "    </tr>\n",
       "  </tbody>\n",
       "</table>\n",
       "<p>34218 rows × 4 columns</p>\n",
       "</div>"
      ],
      "text/plain": [
       "       JOB TITLE  DEPARTMENT  ANNUAL_SALARY  NET_SALARY\n",
       "0           1115          38       0.311531     73862.0\n",
       "1            783          30       0.287024     74628.0\n",
       "2            193          19       0.297223     70174.0\n",
       "3            240          38       0.370284     96276.0\n",
       "4            451          38       0.323192     76627.0\n",
       "...          ...         ...            ...         ...\n",
       "34213        783          30       0.287024     74628.0\n",
       "34214        284          38       0.281593     66764.0\n",
       "34215        783          30       0.297062     77238.0\n",
       "34216        673          18       0.392138    101958.0\n",
       "34217        194          14       0.424422    100205.0\n",
       "\n",
       "[34218 rows x 4 columns]"
      ]
     },
     "execution_count": 585,
     "metadata": {},
     "output_type": "execute_result"
    }
   ],
   "source": [
    "df"
   ]
  },
  {
   "cell_type": "code",
   "execution_count": 586,
   "metadata": {},
   "outputs": [
    {
     "data": {
      "text/plain": [
       "array([ 73862.,  74628.,  70174., ...,  77238., 101958., 100205.])"
      ]
     },
     "execution_count": 586,
     "metadata": {},
     "output_type": "execute_result"
    }
   ],
   "source": [
    "s2=df.iloc[:,3].values\n",
    "s2"
   ]
  },
  {
   "cell_type": "code",
   "execution_count": 587,
   "metadata": {},
   "outputs": [
    {
     "data": {
      "text/plain": [
       "array([[ 73862.],\n",
       "       [ 74628.],\n",
       "       [ 70174.],\n",
       "       ...,\n",
       "       [ 77238.],\n",
       "       [101958.],\n",
       "       [100205.]])"
      ]
     },
     "execution_count": 587,
     "metadata": {},
     "output_type": "execute_result"
    }
   ],
   "source": [
    "s2=s2.reshape(-1,1)\n",
    "s2"
   ]
  },
  {
   "cell_type": "code",
   "execution_count": 588,
   "metadata": {},
   "outputs": [],
   "source": [
    "df[\"NET_SALARY\"]=minmaxscaler.fit_transform(s2)"
   ]
  },
  {
   "cell_type": "code",
   "execution_count": 589,
   "metadata": {},
   "outputs": [
    {
     "data": {
      "text/plain": [
       "0        0.312844\n",
       "1        0.316089\n",
       "2        0.297224\n",
       "3        0.407781\n",
       "4        0.324556\n",
       "           ...   \n",
       "34213    0.316089\n",
       "34214    0.282780\n",
       "34215    0.327144\n",
       "34216    0.431847\n",
       "34217    0.424422\n",
       "Name: NET_SALARY, Length: 34218, dtype: float64"
      ]
     },
     "execution_count": 589,
     "metadata": {},
     "output_type": "execute_result"
    }
   ],
   "source": [
    "df[\"NET_SALARY\"]"
   ]
  },
  {
   "cell_type": "code",
   "execution_count": 590,
   "metadata": {},
   "outputs": [
    {
     "data": {
      "text/html": [
       "<div>\n",
       "<style scoped>\n",
       "    .dataframe tbody tr th:only-of-type {\n",
       "        vertical-align: middle;\n",
       "    }\n",
       "\n",
       "    .dataframe tbody tr th {\n",
       "        vertical-align: top;\n",
       "    }\n",
       "\n",
       "    .dataframe thead th {\n",
       "        text-align: right;\n",
       "    }\n",
       "</style>\n",
       "<table border=\"1\" class=\"dataframe\">\n",
       "  <thead>\n",
       "    <tr style=\"text-align: right;\">\n",
       "      <th></th>\n",
       "      <th>JOB TITLE</th>\n",
       "      <th>DEPARTMENT</th>\n",
       "      <th>ANNUAL_SALARY</th>\n",
       "      <th>NET_SALARY</th>\n",
       "    </tr>\n",
       "  </thead>\n",
       "  <tbody>\n",
       "    <tr>\n",
       "      <td>0</td>\n",
       "      <td>1115</td>\n",
       "      <td>38</td>\n",
       "      <td>0.311531</td>\n",
       "      <td>0.312844</td>\n",
       "    </tr>\n",
       "    <tr>\n",
       "      <td>1</td>\n",
       "      <td>783</td>\n",
       "      <td>30</td>\n",
       "      <td>0.287024</td>\n",
       "      <td>0.316089</td>\n",
       "    </tr>\n",
       "    <tr>\n",
       "      <td>2</td>\n",
       "      <td>193</td>\n",
       "      <td>19</td>\n",
       "      <td>0.297223</td>\n",
       "      <td>0.297224</td>\n",
       "    </tr>\n",
       "    <tr>\n",
       "      <td>3</td>\n",
       "      <td>240</td>\n",
       "      <td>38</td>\n",
       "      <td>0.370284</td>\n",
       "      <td>0.407781</td>\n",
       "    </tr>\n",
       "    <tr>\n",
       "      <td>4</td>\n",
       "      <td>451</td>\n",
       "      <td>38</td>\n",
       "      <td>0.323192</td>\n",
       "      <td>0.324556</td>\n",
       "    </tr>\n",
       "    <tr>\n",
       "      <td>...</td>\n",
       "      <td>...</td>\n",
       "      <td>...</td>\n",
       "      <td>...</td>\n",
       "      <td>...</td>\n",
       "    </tr>\n",
       "    <tr>\n",
       "      <td>34213</td>\n",
       "      <td>783</td>\n",
       "      <td>30</td>\n",
       "      <td>0.287024</td>\n",
       "      <td>0.316089</td>\n",
       "    </tr>\n",
       "    <tr>\n",
       "      <td>34214</td>\n",
       "      <td>284</td>\n",
       "      <td>38</td>\n",
       "      <td>0.281593</td>\n",
       "      <td>0.282780</td>\n",
       "    </tr>\n",
       "    <tr>\n",
       "      <td>34215</td>\n",
       "      <td>783</td>\n",
       "      <td>30</td>\n",
       "      <td>0.297062</td>\n",
       "      <td>0.327144</td>\n",
       "    </tr>\n",
       "    <tr>\n",
       "      <td>34216</td>\n",
       "      <td>673</td>\n",
       "      <td>18</td>\n",
       "      <td>0.392138</td>\n",
       "      <td>0.431847</td>\n",
       "    </tr>\n",
       "    <tr>\n",
       "      <td>34217</td>\n",
       "      <td>194</td>\n",
       "      <td>14</td>\n",
       "      <td>0.424422</td>\n",
       "      <td>0.424422</td>\n",
       "    </tr>\n",
       "  </tbody>\n",
       "</table>\n",
       "<p>34218 rows × 4 columns</p>\n",
       "</div>"
      ],
      "text/plain": [
       "       JOB TITLE  DEPARTMENT  ANNUAL_SALARY  NET_SALARY\n",
       "0           1115          38       0.311531    0.312844\n",
       "1            783          30       0.287024    0.316089\n",
       "2            193          19       0.297223    0.297224\n",
       "3            240          38       0.370284    0.407781\n",
       "4            451          38       0.323192    0.324556\n",
       "...          ...         ...            ...         ...\n",
       "34213        783          30       0.287024    0.316089\n",
       "34214        284          38       0.281593    0.282780\n",
       "34215        783          30       0.297062    0.327144\n",
       "34216        673          18       0.392138    0.431847\n",
       "34217        194          14       0.424422    0.424422\n",
       "\n",
       "[34218 rows x 4 columns]"
      ]
     },
     "execution_count": 590,
     "metadata": {},
     "output_type": "execute_result"
    }
   ],
   "source": [
    "df"
   ]
  },
  {
   "cell_type": "code",
   "execution_count": 591,
   "metadata": {},
   "outputs": [
    {
     "name": "stdout",
     "output_type": "stream",
     "text": [
      "(34218, 4)\n",
      "(33805, 4)\n"
     ]
    }
   ],
   "source": [
    "from scipy.stats import zscore\n",
    "z_score=abs(zscore(df))\n",
    "print(df.shape)\n",
    "df_final=df.loc[(z_score<3).all(axis=1)]\n",
    "print(df_final.shape)"
   ]
  },
  {
   "cell_type": "code",
   "execution_count": 592,
   "metadata": {},
   "outputs": [
    {
     "data": {
      "text/html": [
       "<div>\n",
       "<style scoped>\n",
       "    .dataframe tbody tr th:only-of-type {\n",
       "        vertical-align: middle;\n",
       "    }\n",
       "\n",
       "    .dataframe tbody tr th {\n",
       "        vertical-align: top;\n",
       "    }\n",
       "\n",
       "    .dataframe thead th {\n",
       "        text-align: right;\n",
       "    }\n",
       "</style>\n",
       "<table border=\"1\" class=\"dataframe\">\n",
       "  <thead>\n",
       "    <tr style=\"text-align: right;\">\n",
       "      <th></th>\n",
       "      <th>JOB TITLE</th>\n",
       "      <th>DEPARTMENT</th>\n",
       "      <th>ANNUAL_SALARY</th>\n",
       "    </tr>\n",
       "  </thead>\n",
       "  <tbody>\n",
       "    <tr>\n",
       "      <td>0</td>\n",
       "      <td>1115</td>\n",
       "      <td>38</td>\n",
       "      <td>0.311531</td>\n",
       "    </tr>\n",
       "    <tr>\n",
       "      <td>1</td>\n",
       "      <td>783</td>\n",
       "      <td>30</td>\n",
       "      <td>0.287024</td>\n",
       "    </tr>\n",
       "    <tr>\n",
       "      <td>2</td>\n",
       "      <td>193</td>\n",
       "      <td>19</td>\n",
       "      <td>0.297223</td>\n",
       "    </tr>\n",
       "    <tr>\n",
       "      <td>3</td>\n",
       "      <td>240</td>\n",
       "      <td>38</td>\n",
       "      <td>0.370284</td>\n",
       "    </tr>\n",
       "    <tr>\n",
       "      <td>4</td>\n",
       "      <td>451</td>\n",
       "      <td>38</td>\n",
       "      <td>0.323192</td>\n",
       "    </tr>\n",
       "    <tr>\n",
       "      <td>...</td>\n",
       "      <td>...</td>\n",
       "      <td>...</td>\n",
       "      <td>...</td>\n",
       "    </tr>\n",
       "    <tr>\n",
       "      <td>34213</td>\n",
       "      <td>783</td>\n",
       "      <td>30</td>\n",
       "      <td>0.287024</td>\n",
       "    </tr>\n",
       "    <tr>\n",
       "      <td>34214</td>\n",
       "      <td>284</td>\n",
       "      <td>38</td>\n",
       "      <td>0.281593</td>\n",
       "    </tr>\n",
       "    <tr>\n",
       "      <td>34215</td>\n",
       "      <td>783</td>\n",
       "      <td>30</td>\n",
       "      <td>0.297062</td>\n",
       "    </tr>\n",
       "    <tr>\n",
       "      <td>34216</td>\n",
       "      <td>673</td>\n",
       "      <td>18</td>\n",
       "      <td>0.392138</td>\n",
       "    </tr>\n",
       "    <tr>\n",
       "      <td>34217</td>\n",
       "      <td>194</td>\n",
       "      <td>14</td>\n",
       "      <td>0.424422</td>\n",
       "    </tr>\n",
       "  </tbody>\n",
       "</table>\n",
       "<p>34218 rows × 3 columns</p>\n",
       "</div>"
      ],
      "text/plain": [
       "       JOB TITLE  DEPARTMENT  ANNUAL_SALARY\n",
       "0           1115          38       0.311531\n",
       "1            783          30       0.287024\n",
       "2            193          19       0.297223\n",
       "3            240          38       0.370284\n",
       "4            451          38       0.323192\n",
       "...          ...         ...            ...\n",
       "34213        783          30       0.287024\n",
       "34214        284          38       0.281593\n",
       "34215        783          30       0.297062\n",
       "34216        673          18       0.392138\n",
       "34217        194          14       0.424422\n",
       "\n",
       "[34218 rows x 3 columns]"
      ]
     },
     "execution_count": 592,
     "metadata": {},
     "output_type": "execute_result"
    }
   ],
   "source": [
    "x=df.iloc[:,0:-1]\n",
    "x"
   ]
  },
  {
   "cell_type": "code",
   "execution_count": 593,
   "metadata": {},
   "outputs": [
    {
     "data": {
      "text/plain": [
       "0        0.312844\n",
       "1        0.316089\n",
       "2        0.297224\n",
       "3        0.407781\n",
       "4        0.324556\n",
       "           ...   \n",
       "34213    0.316089\n",
       "34214    0.282780\n",
       "34215    0.327144\n",
       "34216    0.431847\n",
       "34217    0.424422\n",
       "Name: NET_SALARY, Length: 34218, dtype: float64"
      ]
     },
     "execution_count": 593,
     "metadata": {},
     "output_type": "execute_result"
    }
   ],
   "source": [
    "y=df.iloc[:,-1]\n",
    "y"
   ]
  },
  {
   "cell_type": "code",
   "execution_count": null,
   "metadata": {},
   "outputs": [],
   "source": []
  },
  {
   "cell_type": "code",
   "execution_count": 594,
   "metadata": {},
   "outputs": [],
   "source": [
    "from sklearn.preprocessing import StandardScaler\n",
    "scale =StandardScaler()\n",
    "x=scale.fit_transform(x)\n",
    "x=pd.DataFrame(data=x)"
   ]
  },
  {
   "cell_type": "code",
   "execution_count": 595,
   "metadata": {},
   "outputs": [],
   "source": [
    "from sklearn.model_selection import train_test_split\n",
    "x_train,x_test,y_train,y_test = train_test_split(x,y,random_state=45,test_size=0.20)"
   ]
  },
  {
   "cell_type": "code",
   "execution_count": 596,
   "metadata": {},
   "outputs": [
    {
     "name": "stdout",
     "output_type": "stream",
     "text": [
      "max r2 score corresponding to 42 is 0.9830287208912688\n"
     ]
    }
   ],
   "source": [
    "from sklearn.metrics import mean_absolute_error\n",
    "from sklearn.metrics import mean_squared_error\n",
    "from sklearn.metrics import r2_score\n",
    "from sklearn.linear_model import LinearRegression\n",
    "\n",
    "max_r_score=0\n",
    "\n",
    "for r_state in range(42,100):\n",
    "    x_train,x_test,y_train,y_test = train_test_split(x,y,random_state=r_state,test_size=0.20)\n",
    "    regr  = LinearRegression()\n",
    "    regr.fit(x_train,y_train)\n",
    "    y_pred = regr.predict(x_test)\n",
    "    r2_scr = r2_score(y_test,y_pred)\n",
    "    if r2_scr>max_r_score:\n",
    "        max_r_score=r2_scr\n",
    "        final_r_state=r_state\n",
    "print(\"max r2 score corresponding to\",final_r_state,\"is\",max_r_score)        "
   ]
  },
  {
   "cell_type": "code",
   "execution_count": 597,
   "metadata": {},
   "outputs": [
    {
     "data": {
      "text/plain": [
       "0.9815496166169295"
      ]
     },
     "execution_count": 597,
     "metadata": {},
     "output_type": "execute_result"
    }
   ],
   "source": [
    "from sklearn.model_selection import cross_val_score\n",
    "\n",
    "cross_val_score(regr,x,y,cv=10,scoring=\"r2\").mean()"
   ]
  },
  {
   "cell_type": "code",
   "execution_count": 598,
   "metadata": {},
   "outputs": [],
   "source": [
    "#max r2 score we get at random state 42\n",
    "x_train,x_test,y_train,y_test = train_test_split(x,y,random_state=42,test_size=0.20)"
   ]
  },
  {
   "cell_type": "code",
   "execution_count": 599,
   "metadata": {},
   "outputs": [],
   "source": [
    "lreg = LinearRegression()\n",
    "\n",
    "lreg.fit(x_train,y_train)\n",
    "\n",
    "y_pred=lreg.predict(x_test)"
   ]
  },
  {
   "cell_type": "code",
   "execution_count": 600,
   "metadata": {},
   "outputs": [
    {
     "name": "stdout",
     "output_type": "stream",
     "text": [
      "r2 score is : 0.9830287208912688\n",
      "RMSE is : 0.012532711677028734\n"
     ]
    }
   ],
   "source": [
    "print(\"r2 score is :\",r2_score(y_test,y_pred))\n",
    "print(\"RMSE is :\",np.sqrt(mean_squared_error(y_test,y_pred)))"
   ]
  },
  {
   "cell_type": "code",
   "execution_count": 601,
   "metadata": {},
   "outputs": [
    {
     "data": {
      "text/plain": [
       "['salary.pkl']"
      ]
     },
     "execution_count": 601,
     "metadata": {},
     "output_type": "execute_result"
    }
   ],
   "source": [
    "# Saving above model\n",
    "from sklearn.externals import joblib\n",
    "\n",
    "joblib.dump(lreg,\"salary.pkl\")"
   ]
  },
  {
   "cell_type": "code",
   "execution_count": null,
   "metadata": {},
   "outputs": [],
   "source": []
  }
 ],
 "metadata": {
  "kernelspec": {
   "display_name": "Python 3",
   "language": "python",
   "name": "python3"
  },
  "language_info": {
   "codemirror_mode": {
    "name": "ipython",
    "version": 3
   },
   "file_extension": ".py",
   "mimetype": "text/x-python",
   "name": "python",
   "nbconvert_exporter": "python",
   "pygments_lexer": "ipython3",
   "version": "3.7.4"
  }
 },
 "nbformat": 4,
 "nbformat_minor": 2
}
